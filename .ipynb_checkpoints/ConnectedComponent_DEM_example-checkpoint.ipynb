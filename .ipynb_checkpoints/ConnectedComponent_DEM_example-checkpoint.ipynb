{
 "cells": [
  {
   "cell_type": "markdown",
   "metadata": {},
   "source": [
    "# Example Processing for High-resolution DEM\n",
    "## Setup and Installation of Python environment\n",
    "This Notebook and the Python Code to extract Connected Components from longitudinal river profiles requires several python modules to be installed.\n",
    "\n",
    "Using `conda`, you can create your own environment *DEM_CC* and install the required modules (if you haven't done so already):\n",
    "```\n",
    "conda --create DEM_CC\n",
    "conda activate DEM_CC\n",
    "conda install -y pandas numpy geopandas rasterio matplotlib scipy kneed sklearn seaborn\n",
    "```\n",
    "You can do similar steps in your `pip` environment.\n",
    "\n",
    "## Installation of LSDTopoTools\n",
    "Furthermore, the Code requires an installed instance of LSDTopoTools2. We refer to the WEBSITE <LINK>. A few more words about LSDTopoTools and installation\n",
    "    \n",
    "## Installing DEM_ConnectedComponents\n",
    "Download the most recent source code:\n",
    "\n",
    "```\n",
    "git clone https://github.com/UP-RS-ESP/DEM_ConnectedComponents.git\n",
    "```\n",
    "\n",
    "and install:\n",
    "```\n",
    "python setup.py install\n",
    "```\n",
    "    \n",
    "# DEM Preprocessing\n",
    "There are a few steps that need to be done before the `DEM_connectedcomponents` can be run. These include pre-processing steps with LSDTopoTools or a similar environment.\n",
    "\n",
    "## `lsdtt-chi-mapping`\n",
    "Generate a chi map using `lsdtt-chi-mapping`.    \n",
    "    "
   ]
  },
  {
   "cell_type": "code",
   "execution_count": null,
   "metadata": {},
   "outputs": [],
   "source": []
  },
  {
   "cell_type": "code",
   "execution_count": null,
   "metadata": {},
   "outputs": [],
   "source": [
    "from connectedComponentsFunctions import *\n",
    "\n",
    "path = \"./\"\n",
    "lsdttPath =  \"/home/ariane/LSDTopoTools/LSDTopoTools2/LSDTopoTools/LSDTopoTools2/bin/\"\n",
    "\n",
    "#get channel network of testclip. Here I have to set findCompleBasins to true because it is not a closed basin\n",
    "getLSDTTFlowlines(fname = \"testClip\", path = path, lsdttPath = lsdttPath, m_over_n= 0.4, findCompleteBasins= \"true\", testBoundaries= \"true\")  \n",
    "lsdttTableTestClip = mergeLSDTToutput(fname = \"testClip\", path = path, resolution=3, epsg = 32719)    \n",
    "#find a good pixel threshold for calculating channel slope using 20 random channels within the study area\n",
    "#taking only a hand-full of channels severely speeds up processing, yet I would reccoment to carefully select a single basin or use the entire study area for more accurate results\n",
    "pixThr = findPixelThreshold(lsdttTableTestClip, sampleStreams = 20, thresholdRange = np.arange(1,16))\n",
    "\n",
    "#get channel network of debris-flow sample regions \n",
    "getLSDTTFlowlines(fname = \"debrisBasins\", path = path, lsdttPath = lsdttPath, m_over_n= 0.4)  \n",
    "lsdttTableDebrisSamples = mergeLSDTToutput(fname = \"debrisBasins\", path = path, resolution=3, epsg = 32719)   \n",
    "#use debris-flow sample regions to get a good slope-change threshold to constrain CCs  \n",
    "dSlopeThr = findDSlopeThreshold(lsdttTableDebrisSamples, pixThr = pixThr, thresholdRange = np.arange(0.15,0.26,0.01))\n",
    "\n",
    "#run CC Analysis with optimal parameters for both channel networks\n",
    "runCCAnalysis(fname = \"testClip\", path = path, lsdttTable = lsdttTableTestClip, pixThr = pixThr, dSlopeThr = dSlopeThr)\n",
    "runCCAnalysis(fname = \"debrisBasins\", path = path, lsdttTable = lsdttTableDebrisSamples, pixThr = pixThr, dSlopeThr = dSlopeThr)\n",
    "\n",
    "#assign debris-flow similarity\n",
    "dfsiValues = assignDFSI( path = path, allCCName = \"testClip\", debrisName = \"debrisBasins\", pixThr = pixThr, dSlopeThr = dSlopeThr)\n",
    "#backsorting DFSI to stream network\n",
    "backsorting(fname = \"testClip\", path = path, dfsiValues = dfsiValues, pixThr = pixThr, dSlopeThr = dSlopeThr)\n"
   ]
  }
 ],
 "metadata": {
  "kernelspec": {
   "display_name": "Python [conda env:Py3_DEM]",
   "language": "python",
   "name": "conda-env-Py3_DEM-py"
  },
  "language_info": {
   "codemirror_mode": {
    "name": "ipython",
    "version": 3
   },
   "file_extension": ".py",
   "mimetype": "text/x-python",
   "name": "python",
   "nbconvert_exporter": "python",
   "pygments_lexer": "ipython3",
   "version": "3.8.2"
  }
 },
 "nbformat": 4,
 "nbformat_minor": 4
}
